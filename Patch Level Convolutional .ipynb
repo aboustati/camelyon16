{
 "cells": [
  {
   "cell_type": "markdown",
   "metadata": {},
   "source": [
    "# Simple Patch Level Convolutional Neural Network "
   ]
  },
  {
   "cell_type": "markdown",
   "metadata": {},
   "source": [
    "### This is just a framework and is not yet functional"
   ]
  },
  {
   "cell_type": "code",
   "execution_count": 6,
   "metadata": {
    "collapsed": true
   },
   "outputs": [],
   "source": [
    "import tensorflow as tf\n",
    "import numpy as np\n",
    "import matplotlib.pyplot as plt\n",
    "import matplotlib.image as mpimg\n",
    "\n",
    "%matplotlib inline"
   ]
  },
  {
   "cell_type": "code",
   "execution_count": 5,
   "metadata": {
    "collapsed": false
   },
   "outputs": [
    {
     "ename": "NameError",
     "evalue": "name 'conv_valid_data' is not defined",
     "output_type": "error",
     "traceback": [
      "\u001b[0;31m---------------------------------------------------------------------------\u001b[0m",
      "\u001b[0;31mNameError\u001b[0m                                 Traceback (most recent call last)",
      "\u001b[0;32m<ipython-input-5-d364b2c9c601>\u001b[0m in \u001b[0;36m<module>\u001b[0;34m()\u001b[0m\n\u001b[1;32m     15\u001b[0m     conv_tf_train_labels = tf.placeholder(\n\u001b[1;32m     16\u001b[0m         tf.float32, shape = (batchSize, numb_labels))\n\u001b[0;32m---> 17\u001b[0;31m     \u001b[0mconv_tf_valid_data\u001b[0m \u001b[0;34m=\u001b[0m \u001b[0mtf\u001b[0m\u001b[0;34m.\u001b[0m\u001b[0mVariable\u001b[0m\u001b[0;34m(\u001b[0m\u001b[0mconv_valid_data\u001b[0m\u001b[0;34m)\u001b[0m\u001b[0;34m\u001b[0m\u001b[0m\n\u001b[0m\u001b[1;32m     18\u001b[0m     \u001b[0mconv_tf_test_data\u001b[0m \u001b[0;34m=\u001b[0m \u001b[0mtf\u001b[0m\u001b[0;34m.\u001b[0m\u001b[0mVariable\u001b[0m\u001b[0;34m(\u001b[0m\u001b[0mconv_test_data\u001b[0m\u001b[0;34m)\u001b[0m\u001b[0;34m\u001b[0m\u001b[0m\n\u001b[1;32m     19\u001b[0m \u001b[0;34m\u001b[0m\u001b[0m\n",
      "\u001b[0;31mNameError\u001b[0m: name 'conv_valid_data' is not defined"
     ]
    }
   ],
   "source": [
    "batchSize = 20\n",
    "patch_size = 5\n",
    "depth = 16\n",
    "num_hidden = 64\n",
    "numb_labels = 10\n",
    "image_size = 256\n",
    "num_channels = 3\n",
    "\n",
    "graph = tf.Graph()\n",
    "\n",
    "with graph.as_default():\n",
    "    \n",
    "    conv_tf_train_data = tf.placeholder(\n",
    "        tf.float32, shape = (batchSize, image_size, image_size, num_channels))\n",
    "    conv_tf_train_labels = tf.placeholder(\n",
    "        tf.float32, shape = (batchSize, numb_labels))\n",
    "    conv_tf_valid_data = tf.Variable(conv_valid_data)\n",
    "    conv_tf_test_data = tf.Variable(conv_test_data)\n",
    "    \n",
    "    \n",
    "    weights_conv_01 = tf.Variable(\n",
    "        tf.truncated_normal([patch_size, patch_size, num_channels, depth], stddev= 0.1))\n",
    "    biases_conv_01 = tf.Variable(\n",
    "        tf.zeros([depth]))\n",
    "    weights_conv_12 = tf.Variable(\n",
    "        tf.truncated_normal([patch_size, patch_size, depth, depth]))\n",
    "    biases_conv_12 = tf.Variable(\n",
    "        tf.constant(1.0, shape = [depth]))\n",
    "    weights_connected_23 = tf.Variable(\n",
    "        tf.truncated_normal([image_size // 4 * image_size // 4 * depth, num_hidden], stddev=0.1))\n",
    "    biases_connected_23 = tf.Variable(tf.constant(1.0, shape=[num_hidden]))\n",
    "    weights_connected_34 = tf.Variable(\n",
    "        tf.truncated_normal([num_hidden, numb_labels], stddev=0.1))\n",
    "    biases_connected_34 = tf.Variable(tf.constant(1.0, shape=[numb_labels]))\n",
    "\n",
    "    \n",
    "    # Model.\n",
    "    def model(data):\n",
    "        conv = tf.nn.conv2d(data, weights_conv_01, [1, 2, 2, 1], padding='SAME')  # Stride distance of 2\n",
    "        hidden = tf.nn.relu(conv + biases_conv_01)\n",
    "        conv = tf.nn.conv2d(hidden, weights_conv_12, [1, 2, 2, 1], padding='SAME') # Stride distance of 2\n",
    "        hidden = tf.nn.relu(conv + biases_conv_12)\n",
    "        shape = hidden.get_shape().as_list()\n",
    "        reshape = tf.reshape(hidden, [shape[0], shape[1] * shape[2] * shape[3]])\n",
    "        hidden = tf.nn.relu(tf.matmul(reshape, weights_connected_23) + biases_connected_23)\n",
    "        return tf.matmul(hidden, weights_connected_34) + biases_connected_34\n",
    "\n",
    "    # Training computation.\n",
    "    logits = model(conv_tf_train_data)\n",
    "    loss = tf.reduce_mean(\n",
    "    tf.nn.softmax_cross_entropy_with_logits(logits, conv_tf_train_labels))\n",
    "\n",
    "    # Optimizer.\n",
    "    optimiser = tf.train.GradientDescentOptimizer(0.05).minimize(loss)\n",
    "\n",
    "    # Predictions for the training, validation, and test data.\n",
    "    train_prediction = tf.nn.softmax(logits)\n",
    "    valid_prediction = tf.nn.softmax(model(conv_tf_valid_data))\n",
    "    test_prediction = tf.nn.softmax(model(conv_tf_test_data))"
   ]
  },
  {
   "cell_type": "code",
   "execution_count": null,
   "metadata": {
    "collapsed": true
   },
   "outputs": [],
   "source": [
    "num_steps = 3301\n",
    "graph_minibatch = []\n",
    "graph_valid = []\n",
    "steps = []\n",
    "\n",
    "def accuracy(predictions, labels):\n",
    "    return (100.0 * np.sum(np.argmax(predictions, 1) == np.argmax(labels, 1))\n",
    "          / predictions.shape[0])\n",
    "\n",
    "with tf.Session(graph=graph) as session:\n",
    "    \n",
    "    tf.initialize_all_variables().run()\n",
    "    \n",
    "    print('Initialized')\n",
    "    for step in range(num_steps):\n",
    "        offset = (step * batchSize) % (train_labels.shape[0] - batchSize)\n",
    "        batch_data = conv_train_data[offset:(offset + batchSize), :, :, :]\n",
    "        batch_labels = train_labels[offset:(offset + batchSize), :]\n",
    "        feed_dict = {conv_tf_train_data : batch_data, conv_tf_train_labels : batch_labels}\n",
    "        _, l, predictions = session.run(\n",
    "          [optimiser, loss, train_prediction], feed_dict=feed_dict)\n",
    "        if (step % 50 == 0):\n",
    "            steps.append(step)\n",
    "            graph_minibatch.append(accuracy(predictions, batch_labels))\n",
    "            graph_valid.append(accuracy(valid_prediction.eval(), valid_labels))\n",
    "        if (step % 600 == 0):\n",
    "            print('Minibatch loss at step %d: %f' % (step, l))\n",
    "            print('Minibatch accuracy: %.1f%%' % accuracy(predictions, batch_labels))\n",
    "            print('Validation accuracy: %.1f%%' % accuracy(\n",
    "            valid_prediction.eval(), valid_labels))\n",
    "    print('Test accuracy: %.1f%%' % accuracy(test_prediction.eval(), test_labels))"
   ]
  }
 ],
 "metadata": {
  "kernelspec": {
   "display_name": "Python 3",
   "language": "python",
   "name": "python3"
  },
  "language_info": {
   "codemirror_mode": {
    "name": "ipython",
    "version": 3
   },
   "file_extension": ".py",
   "mimetype": "text/x-python",
   "name": "python",
   "nbconvert_exporter": "python",
   "pygments_lexer": "ipython3",
   "version": "3.5.2"
  }
 },
 "nbformat": 4,
 "nbformat_minor": 0
}
